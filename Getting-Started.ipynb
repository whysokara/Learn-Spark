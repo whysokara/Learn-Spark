{
 "cells": [
  {
   "cell_type": "code",
   "execution_count": null,
   "metadata": {
    "vscode": {
     "languageId": "plaintext"
    }
   },
   "outputs": [],
   "source": []
  },
  {
   "cell_type": "code",
   "execution_count": null,
   "metadata": {
    "vscode": {
     "languageId": "plaintext"
    }
   },
   "outputs": [],
   "source": [
    "HousePrice_df = spark.read.format(\"csv\") \\\n",
    "    .option(\"header\",\"true\")\\\n",
    "        .option(\"inferSchema\", \"true\") \\\n",
    "            .load(\"dbfs:/FileStore/SampleData/house_price.csv\")\n",
    "\n",
    "\n"
   ]
  },
  {
   "cell_type": "code",
   "execution_count": null,
   "metadata": {
    "vscode": {
     "languageId": "plaintext"
    }
   },
   "outputs": [],
   "source": [
    "from pyspark.sql.functions import avg, round\n",
    "\n",
    "results_df = HousePrice_df.select(\"parking\", \"price\")\\\n",
    "    .groupBy(\"parking\")\\\n",
    "        .agg(round(avg(\"price\"),2).alias(\"Avg Price\"))\\\n",
    "            .sort(\"parking\") \\\n",
    "\n",
    "results_df.show()"
   ]
  },
  {
   "cell_type": "code",
   "execution_count": null,
   "metadata": {
    "vscode": {
     "languageId": "plaintext"
    }
   },
   "outputs": [],
   "source": [
    "display(results_df)"
   ]
  }
 ],
 "metadata": {
  "language_info": {
   "name": "python"
  }
 },
 "nbformat": 4,
 "nbformat_minor": 2
}
